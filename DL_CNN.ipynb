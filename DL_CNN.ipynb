{
 "cells": [
  {
   "cell_type": "code",
   "execution_count": 3,
   "id": "8e9ae5c2",
   "metadata": {},
   "outputs": [
    {
     "name": "stdout",
     "output_type": "stream",
     "text": [
      "Epoch 1/10\n",
      "546/546 [==============================] - 66s 115ms/step - loss: 0.6434 - accuracy: 0.6265 - val_loss: 0.5888 - val_accuracy: 0.6932\n",
      "Epoch 2/10\n",
      "546/546 [==============================] - 61s 111ms/step - loss: 0.5507 - accuracy: 0.7185 - val_loss: 0.5275 - val_accuracy: 0.7394\n",
      "Epoch 3/10\n",
      "546/546 [==============================] - 62s 113ms/step - loss: 0.4959 - accuracy: 0.7639 - val_loss: 0.5161 - val_accuracy: 0.7487\n",
      "Epoch 4/10\n",
      "546/546 [==============================] - 63s 115ms/step - loss: 0.4590 - accuracy: 0.7848 - val_loss: 0.5051 - val_accuracy: 0.7614\n",
      "Epoch 5/10\n",
      "546/546 [==============================] - 62s 114ms/step - loss: 0.4322 - accuracy: 0.7988 - val_loss: 0.4904 - val_accuracy: 0.7757\n",
      "Epoch 6/10\n",
      "546/546 [==============================] - 63s 116ms/step - loss: 0.3955 - accuracy: 0.8248 - val_loss: 0.4756 - val_accuracy: 0.7801\n",
      "Epoch 7/10\n",
      "546/546 [==============================] - 57s 104ms/step - loss: 0.3690 - accuracy: 0.8341 - val_loss: 0.4786 - val_accuracy: 0.7883\n",
      "Epoch 8/10\n",
      "546/546 [==============================] - 58s 106ms/step - loss: 0.3443 - accuracy: 0.8473 - val_loss: 0.5295 - val_accuracy: 0.7704\n",
      "Epoch 9/10\n",
      "546/546 [==============================] - 62s 114ms/step - loss: 0.3211 - accuracy: 0.8603 - val_loss: 0.5224 - val_accuracy: 0.7757\n",
      "Epoch 10/10\n",
      "546/546 [==============================] - 62s 113ms/step - loss: 0.2905 - accuracy: 0.8735 - val_loss: 0.5495 - val_accuracy: 0.7815\n"
     ]
    },
    {
     "data": {
      "text/plain": [
       "<tensorflow.python.keras.callbacks.History at 0x20ee51f8760>"
      ]
     },
     "execution_count": 3,
     "metadata": {},
     "output_type": "execute_result"
    }
   ],
   "source": [
    "import tensorflow as tf\n",
    "from tensorflow.keras.models import Sequential\n",
    "from tensorflow.keras.layers import Dense, Dropout, Activation, Flatten, Conv2D, MaxPooling2D\n",
    "import pickle\n",
    "import numpy as np\n",
    "\n",
    "X = pickle.load(open(\"X.pickle\", \"rb\"))\n",
    "y = pickle.load(open(\"y.pickle\", \"rb\"))\n",
    "\n",
    "X = X/255.0\n",
    "X=np.array(X)\n",
    "y=np.array(y)\n",
    "\n",
    "#layer\n",
    "model = Sequential()\n",
    "model.add(Conv2D(64, (3,3), input_shape = X.shape[1:]))\n",
    "model.add(Activation(\"relu\"))\n",
    "model.add (MaxPooling2D(pool_size=(2,2)))\n",
    "\n",
    "#layer\n",
    "model.add(Conv2D(64, (3,3)))\n",
    "model.add(Activation(\"relu\"))\n",
    "model.add (MaxPooling2D(pool_size=(2,2)))\n",
    "          \n",
    "model.add(Flatten())\n",
    "model.add(Dense(64))\n",
    "\n",
    "model.add(Dense(1)) #output layer\n",
    "model.add(Activation('sigmoid'))\n",
    "\n",
    "model.compile(loss=\"binary_crossentropy\",\n",
    "             optimizer=\"adam\",\n",
    "             metrics=['accuracy'])\n",
    "\n",
    "model.fit(X, y, batch_size=32, epochs =10, validation_split=0.3)"
   ]
  },
  {
   "cell_type": "code",
   "execution_count": 21,
   "id": "f2e0cb83",
   "metadata": {},
   "outputs": [
    {
     "name": "stdout",
     "output_type": "stream",
     "text": [
      "Epoch 1/3\n",
      "546/546 [==============================] - 335s 612ms/step - loss: 0.6696 - accuracy: 0.6043 - val_loss: 0.6468 - val_accuracy: 0.6245\n",
      "Epoch 2/3\n",
      "546/546 [==============================] - 345s 632ms/step - loss: 0.6264 - accuracy: 0.6562 - val_loss: 0.5947 - val_accuracy: 0.6905\n",
      "Epoch 3/3\n",
      "546/546 [==============================] - 429s 785ms/step - loss: 0.5812 - accuracy: 0.6972 - val_loss: 0.5388 - val_accuracy: 0.7306\n"
     ]
    },
    {
     "data": {
      "text/plain": [
       "<tensorflow.python.keras.callbacks.History at 0x1614b7d89d0>"
      ]
     },
     "execution_count": 21,
     "metadata": {},
     "output_type": "execute_result"
    }
   ],
   "source": [
    "import tensorflow as tf\n",
    "from tensorflow.keras.datasets import cifar10\n",
    "from tensorflow.keras.preprocessing.image import ImageDataGenerator\n",
    "from tensorflow.keras.models import Sequential\n",
    "from tensorflow.keras.layers import Dense, Dropout, Activation, Flatten\n",
    "from tensorflow.keras.layers import Conv2D, MaxPooling2D\n",
    "\n",
    "import pickle\n",
    "\n",
    "pickle_in = open(\"X.pickle\",\"rb\")\n",
    "X = pickle.load(pickle_in)\n",
    "\n",
    "pickle_in = open(\"y.pickle\",\"rb\")\n",
    "y = pickle.load(pickle_in)\n",
    "\n",
    "X = X/255.0\n",
    "y=np.array(y)\n",
    "model = Sequential()\n",
    "\n",
    "model.add(Conv2D(256, (3, 3), input_shape=X.shape[1:]))\n",
    "model.add(Activation('relu'))\n",
    "model.add(MaxPooling2D(pool_size=(2, 2)))\n",
    "\n",
    "model.add(Conv2D(256, (3, 3)))\n",
    "model.add(Activation('relu'))\n",
    "model.add(MaxPooling2D(pool_size=(2, 2)))\n",
    "\n",
    "model.add(Flatten())  # this converts our 3D feature maps to 1D feature vectors\n",
    "\n",
    "model.add(Dense(64))\n",
    "\n",
    "model.add(Dense(1))\n",
    "model.add(Activation('sigmoid'))\n",
    "\n",
    "model.compile(loss='binary_crossentropy',\n",
    "              optimizer='adam',\n",
    "              metrics=['accuracy'])\n",
    "\n",
    "model.fit(X, y, batch_size=32, epochs=3, validation_split=0.3)"
   ]
  },
  {
   "cell_type": "code",
   "execution_count": 7,
   "id": "e18e642a",
   "metadata": {},
   "outputs": [
    {
     "name": "stdout",
     "output_type": "stream",
     "text": [
      "Epoch 1/3\n",
      "546/546 [==============================] - 1257s 2s/step - loss: 0.6537 - accuracy: 0.6019 - val_loss: 0.5872 - val_accuracy: 0.6872\n",
      "Epoch 2/3\n",
      "546/546 [==============================] - 363s 666ms/step - loss: 0.5538 - accuracy: 0.7158 - val_loss: 0.5649 - val_accuracy: 0.7051\n",
      "Epoch 3/3\n",
      "546/546 [==============================] - 366s 671ms/step - loss: 0.4953 - accuracy: 0.7565 - val_loss: 0.4962 - val_accuracy: 0.7667\n"
     ]
    },
    {
     "data": {
      "text/plain": [
       "<tensorflow.python.keras.callbacks.History at 0x20ee61627f0>"
      ]
     },
     "execution_count": 7,
     "metadata": {},
     "output_type": "execute_result"
    }
   ],
   "source": [
    "import tensorflow as tf\n",
    "import numpy as np\n",
    "from tensorflow.keras.datasets import cifar10\n",
    "from tensorflow.keras.preprocessing.image import ImageDataGenerator\n",
    "from tensorflow.keras.models import Sequential\n",
    "from tensorflow.keras.layers import Dense, Dropout, Activation, Flatten\n",
    "from tensorflow.keras.layers import Conv2D, MaxPooling2D\n",
    "# more info on callbakcs: https://keras.io/callbacks/ model saver is cool too.\n",
    "from tensorflow.keras.callbacks import TensorBoard\n",
    "import pickle\n",
    "#import time\n",
    "\n",
    "\n",
    "#NAME = \"Cats-vs-dogs-CNN\"\n",
    "\n",
    "pickle_in = open(\"X.pickle\",\"rb\")\n",
    "X = pickle.load(pickle_in)\n",
    "\n",
    "pickle_in = open(\"y.pickle\",\"rb\")\n",
    "y = pickle.load(pickle_in)\n",
    "y=np.array(y)\n",
    "X = X/255.0\n",
    "\n",
    "model = Sequential()\n",
    "\n",
    "model.add(Conv2D(256, (3, 3), input_shape=X.shape[1:]))\n",
    "model.add(Activation('relu'))\n",
    "model.add(MaxPooling2D(pool_size=(2, 2)))\n",
    "\n",
    "model.add(Conv2D(256, (3, 3)))\n",
    "model.add(Activation('relu'))\n",
    "model.add(MaxPooling2D(pool_size=(2, 2)))\n",
    "\n",
    "model.add(Flatten())  # this converts our 3D feature maps to 1D feature vectors\n",
    "model.add(Dense(64))\n",
    "model.add(Activation('relu'))\n",
    "\n",
    "model.add(Dense(1))\n",
    "model.add(Activation('sigmoid'))\n",
    "\n",
    "tensorboard = TensorBoard(log_dir=\"logs/{}\".format(NAME))\n",
    "\n",
    "model.compile(loss='binary_crossentropy',\n",
    "              optimizer='adam',\n",
    "              metrics=['accuracy'])\n",
    "\n",
    "model.fit(X, y, batch_size=32, epochs=3,validation_split=0.3,callbacks=[tensorboard])"
   ]
  },
  {
   "cell_type": "code",
   "execution_count": null,
   "id": "382c9b5a",
   "metadata": {},
   "outputs": [],
   "source": []
  }
 ],
 "metadata": {
  "kernelspec": {
   "display_name": "Python 3",
   "language": "python",
   "name": "python3"
  },
  "language_info": {
   "codemirror_mode": {
    "name": "ipython",
    "version": 3
   },
   "file_extension": ".py",
   "mimetype": "text/x-python",
   "name": "python",
   "nbconvert_exporter": "python",
   "pygments_lexer": "ipython3",
   "version": "3.8.10"
  }
 },
 "nbformat": 4,
 "nbformat_minor": 5
}
